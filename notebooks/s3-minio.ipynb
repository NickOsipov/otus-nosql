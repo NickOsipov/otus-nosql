{
 "cells": [
  {
   "cell_type": "markdown",
   "metadata": {},
   "source": [
    "# Minio - Основы"
   ]
  },
  {
   "cell_type": "markdown",
   "metadata": {},
   "source": [
    "Импорты"
   ]
  },
  {
   "cell_type": "code",
   "execution_count": null,
   "metadata": {},
   "outputs": [],
   "source": [
    "import os\n",
    "from minio import Minio\n",
    "from dotenv import load_dotenv\n",
    "\n",
    "load_dotenv(os.path.join(\"..\", '.env'))"
   ]
  },
  {
   "cell_type": "markdown",
   "metadata": {},
   "source": [
    "Переменные окружения"
   ]
  },
  {
   "cell_type": "code",
   "execution_count": null,
   "metadata": {},
   "outputs": [],
   "source": [
    "MINIO_ENDPOINT_URL = os.getenv(\"MINIO_ENDPOINT_URL\")\n",
    "MINIO_ROOT_USER = os.getenv(\"MINIO_ROOT_USER\")\n",
    "MINIO_ROOT_PASSWORD = os.getenv(\"MINIO_ROOT_PASSWORD\")"
   ]
  },
  {
   "cell_type": "markdown",
   "metadata": {},
   "source": [
    "Клиент для подключения"
   ]
  },
  {
   "cell_type": "code",
   "execution_count": null,
   "metadata": {},
   "outputs": [],
   "source": [
    "minio_client = Minio(\n",
    "    endpoint=MINIO_ENDPOINT_URL,\n",
    "    access_key=MINIO_ROOT_USER,\n",
    "    secret_key=MINIO_ROOT_PASSWORD,\n",
    "    secure=False\n",
    ")"
   ]
  },
  {
   "cell_type": "markdown",
   "metadata": {},
   "source": [
    "Посмотрим на список бакетов"
   ]
  },
  {
   "cell_type": "code",
   "execution_count": null,
   "metadata": {},
   "outputs": [],
   "source": [
    "minio_client.list_buckets()"
   ]
  },
  {
   "cell_type": "markdown",
   "metadata": {},
   "source": [
    "Загрузим наш рабочий ноутбук"
   ]
  },
  {
   "cell_type": "code",
   "execution_count": null,
   "metadata": {},
   "outputs": [],
   "source": [
    "# The file to upload, change this path if needed\n",
    "source_file = \"work.ipynb\"\n",
    "\n",
    "# The destination bucket and filename on the MinIO server\n",
    "bucket_name = \"test-bucket\"\n",
    "destination_file = \"uploaded_\" + source_file"
   ]
  },
  {
   "cell_type": "code",
   "execution_count": null,
   "metadata": {},
   "outputs": [],
   "source": [
    "# Make the bucket if it doesn't exist.\n",
    "found = minio_client.bucket_exists(bucket_name)\n",
    "if not found:\n",
    "    minio_client.make_bucket(bucket_name)\n",
    "    print(f'Created bucket \"{bucket_name}\"')\n",
    "else:\n",
    "    print(f'Bucket \"{bucket_name}\" already exists')"
   ]
  },
  {
   "cell_type": "code",
   "execution_count": null,
   "metadata": {},
   "outputs": [],
   "source": [
    "# Upload the file, renaming it in the process\n",
    "minio_client.fput_object(\n",
    "    bucket_name, destination_file, source_file,\n",
    ")\n",
    "print(f'\"{source_file}\" successfully uploaded as object, \"{destination_file}\" to bucket \"{bucket_name}\"')"
   ]
  }
 ],
 "metadata": {
  "kernelspec": {
   "display_name": ".venv",
   "language": "python",
   "name": "python3"
  },
  "language_info": {
   "codemirror_mode": {
    "name": "ipython",
    "version": 3
   },
   "file_extension": ".py",
   "mimetype": "text/x-python",
   "name": "python",
   "nbconvert_exporter": "python",
   "pygments_lexer": "ipython3",
   "version": "3.11.7"
  }
 },
 "nbformat": 4,
 "nbformat_minor": 2
}
