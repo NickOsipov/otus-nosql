{
 "cells": [
  {
   "cell_type": "markdown",
   "metadata": {},
   "source": [
    "# Работа с ClickHouse - Основы"
   ]
  },
  {
   "cell_type": "markdown",
   "metadata": {},
   "source": [
    "Импорты"
   ]
  },
  {
   "cell_type": "code",
   "execution_count": 1,
   "metadata": {},
   "outputs": [],
   "source": [
    "from clickhouse_connect import get_client\n",
    "from clickhouse_connect.driver.httpclient import HttpClient as ClientCH\n",
    "import pandas as pd"
   ]
  },
  {
   "cell_type": "markdown",
   "metadata": {},
   "source": [
    "Подключение"
   ]
  },
  {
   "cell_type": "code",
   "execution_count": 2,
   "metadata": {},
   "outputs": [],
   "source": [
    "CH_CLIENT = get_client(host='localhost')"
   ]
  },
  {
   "cell_type": "markdown",
   "metadata": {},
   "source": [
    "Функции для работы"
   ]
  },
  {
   "cell_type": "code",
   "execution_count": 3,
   "metadata": {},
   "outputs": [],
   "source": [
    "def execute_query(\n",
    "    query: str, \n",
    "    client: ClientCH = CH_CLIENT\n",
    ") -> pd.DataFrame:\n",
    "    \"\"\"\n",
    "    Simple function to execute a query and return the result as a pandas DataFrame\n",
    "    \"\"\"\n",
    "    result = client.query(query)\n",
    "    return pd.DataFrame(result.result_rows, columns=result.column_names)"
   ]
  },
  {
   "cell_type": "markdown",
   "metadata": {},
   "source": [
    "Посмотрим на БД по умолчанию"
   ]
  },
  {
   "cell_type": "code",
   "execution_count": 6,
   "metadata": {},
   "outputs": [
    {
     "data": {
      "application/vnd.microsoft.datawrangler.viewer.v0+json": {
       "columns": [
        {
         "name": "index",
         "rawType": "int64",
         "type": "integer"
        },
        {
         "name": "name",
         "rawType": "object",
         "type": "string"
        }
       ],
       "ref": "a2a6ef6f-95f3-49c3-81c5-6adbe010e8aa",
       "rows": [
        [
         "0",
         "INFORMATION_SCHEMA"
        ],
        [
         "1",
         "default"
        ],
        [
         "2",
         "information_schema"
        ],
        [
         "3",
         "system"
        ],
        [
         "4",
         "test_database"
        ]
       ],
       "shape": {
        "columns": 1,
        "rows": 5
       }
      },
      "text/html": [
       "<div>\n",
       "<style scoped>\n",
       "    .dataframe tbody tr th:only-of-type {\n",
       "        vertical-align: middle;\n",
       "    }\n",
       "\n",
       "    .dataframe tbody tr th {\n",
       "        vertical-align: top;\n",
       "    }\n",
       "\n",
       "    .dataframe thead th {\n",
       "        text-align: right;\n",
       "    }\n",
       "</style>\n",
       "<table border=\"1\" class=\"dataframe\">\n",
       "  <thead>\n",
       "    <tr style=\"text-align: right;\">\n",
       "      <th></th>\n",
       "      <th>name</th>\n",
       "    </tr>\n",
       "  </thead>\n",
       "  <tbody>\n",
       "    <tr>\n",
       "      <th>0</th>\n",
       "      <td>INFORMATION_SCHEMA</td>\n",
       "    </tr>\n",
       "    <tr>\n",
       "      <th>1</th>\n",
       "      <td>default</td>\n",
       "    </tr>\n",
       "    <tr>\n",
       "      <th>2</th>\n",
       "      <td>information_schema</td>\n",
       "    </tr>\n",
       "    <tr>\n",
       "      <th>3</th>\n",
       "      <td>system</td>\n",
       "    </tr>\n",
       "    <tr>\n",
       "      <th>4</th>\n",
       "      <td>test_database</td>\n",
       "    </tr>\n",
       "  </tbody>\n",
       "</table>\n",
       "</div>"
      ],
      "text/plain": [
       "                 name\n",
       "0  INFORMATION_SCHEMA\n",
       "1             default\n",
       "2  information_schema\n",
       "3              system\n",
       "4       test_database"
      ]
     },
     "execution_count": 6,
     "metadata": {},
     "output_type": "execute_result"
    }
   ],
   "source": [
    "q = \"\"\"\n",
    "SHOW DATABASES\n",
    "\"\"\"\n",
    "execute_query(q)"
   ]
  },
  {
   "cell_type": "markdown",
   "metadata": {},
   "source": [
    "Создадим свою БД"
   ]
  },
  {
   "cell_type": "code",
   "execution_count": 5,
   "metadata": {},
   "outputs": [
    {
     "data": {
      "application/vnd.microsoft.datawrangler.viewer.v0+json": {
       "columns": [
        {
         "name": "index",
         "rawType": "int64",
         "type": "integer"
        },
        {
         "name": "read_rows",
         "rawType": "int64",
         "type": "integer"
        },
        {
         "name": "read_bytes",
         "rawType": "int64",
         "type": "integer"
        },
        {
         "name": "written_rows",
         "rawType": "int64",
         "type": "integer"
        },
        {
         "name": "written_bytes",
         "rawType": "int64",
         "type": "integer"
        },
        {
         "name": "total_rows_to_read",
         "rawType": "int64",
         "type": "integer"
        },
        {
         "name": "result_rows",
         "rawType": "int64",
         "type": "integer"
        },
        {
         "name": "result_bytes",
         "rawType": "int64",
         "type": "integer"
        },
        {
         "name": "elapsed_ns",
         "rawType": "int64",
         "type": "integer"
        },
        {
         "name": "query_id",
         "rawType": "object",
         "type": "string"
        }
       ],
       "ref": "e38b5ce4-4a3a-4235-b7da-910ea32be5e7",
       "rows": [
        [
         "0",
         "0",
         "0",
         "0",
         "0",
         "0",
         "0",
         "0",
         "4668259",
         "e4953cf7-a3c2-4772-896a-78982b660b08"
        ]
       ],
       "shape": {
        "columns": 9,
        "rows": 1
       }
      },
      "text/html": [
       "<div>\n",
       "<style scoped>\n",
       "    .dataframe tbody tr th:only-of-type {\n",
       "        vertical-align: middle;\n",
       "    }\n",
       "\n",
       "    .dataframe tbody tr th {\n",
       "        vertical-align: top;\n",
       "    }\n",
       "\n",
       "    .dataframe thead th {\n",
       "        text-align: right;\n",
       "    }\n",
       "</style>\n",
       "<table border=\"1\" class=\"dataframe\">\n",
       "  <thead>\n",
       "    <tr style=\"text-align: right;\">\n",
       "      <th></th>\n",
       "      <th>read_rows</th>\n",
       "      <th>read_bytes</th>\n",
       "      <th>written_rows</th>\n",
       "      <th>written_bytes</th>\n",
       "      <th>total_rows_to_read</th>\n",
       "      <th>result_rows</th>\n",
       "      <th>result_bytes</th>\n",
       "      <th>elapsed_ns</th>\n",
       "      <th>query_id</th>\n",
       "    </tr>\n",
       "  </thead>\n",
       "  <tbody>\n",
       "    <tr>\n",
       "      <th>0</th>\n",
       "      <td>0</td>\n",
       "      <td>0</td>\n",
       "      <td>0</td>\n",
       "      <td>0</td>\n",
       "      <td>0</td>\n",
       "      <td>0</td>\n",
       "      <td>0</td>\n",
       "      <td>4668259</td>\n",
       "      <td>e4953cf7-a3c2-4772-896a-78982b660b08</td>\n",
       "    </tr>\n",
       "  </tbody>\n",
       "</table>\n",
       "</div>"
      ],
      "text/plain": [
       "   read_rows  read_bytes  written_rows  written_bytes  total_rows_to_read  \\\n",
       "0          0           0             0              0                   0   \n",
       "\n",
       "   result_rows  result_bytes  elapsed_ns                              query_id  \n",
       "0            0             0     4668259  e4953cf7-a3c2-4772-896a-78982b660b08  "
      ]
     },
     "execution_count": 5,
     "metadata": {},
     "output_type": "execute_result"
    }
   ],
   "source": [
    "q = \"\"\"\n",
    "CREATE DATABASE IF NOT EXISTS test_database\n",
    "\"\"\"\n",
    "execute_query(q)"
   ]
  },
  {
   "cell_type": "markdown",
   "metadata": {},
   "source": [
    "Создадим таблицу"
   ]
  },
  {
   "cell_type": "code",
   "execution_count": 7,
   "metadata": {},
   "outputs": [
    {
     "data": {
      "application/vnd.microsoft.datawrangler.viewer.v0+json": {
       "columns": [
        {
         "name": "index",
         "rawType": "int64",
         "type": "integer"
        },
        {
         "name": "read_rows",
         "rawType": "int64",
         "type": "integer"
        },
        {
         "name": "read_bytes",
         "rawType": "int64",
         "type": "integer"
        },
        {
         "name": "written_rows",
         "rawType": "int64",
         "type": "integer"
        },
        {
         "name": "written_bytes",
         "rawType": "int64",
         "type": "integer"
        },
        {
         "name": "total_rows_to_read",
         "rawType": "int64",
         "type": "integer"
        },
        {
         "name": "result_rows",
         "rawType": "int64",
         "type": "integer"
        },
        {
         "name": "result_bytes",
         "rawType": "int64",
         "type": "integer"
        },
        {
         "name": "elapsed_ns",
         "rawType": "int64",
         "type": "integer"
        },
        {
         "name": "query_id",
         "rawType": "object",
         "type": "string"
        }
       ],
       "ref": "9e351599-2297-4765-bd99-9f06e08b3be0",
       "rows": [
        [
         "0",
         "0",
         "0",
         "0",
         "0",
         "0",
         "0",
         "0",
         "13065847",
         "85894e22-d640-4f48-b22a-8406dafe8075"
        ]
       ],
       "shape": {
        "columns": 9,
        "rows": 1
       }
      },
      "text/html": [
       "<div>\n",
       "<style scoped>\n",
       "    .dataframe tbody tr th:only-of-type {\n",
       "        vertical-align: middle;\n",
       "    }\n",
       "\n",
       "    .dataframe tbody tr th {\n",
       "        vertical-align: top;\n",
       "    }\n",
       "\n",
       "    .dataframe thead th {\n",
       "        text-align: right;\n",
       "    }\n",
       "</style>\n",
       "<table border=\"1\" class=\"dataframe\">\n",
       "  <thead>\n",
       "    <tr style=\"text-align: right;\">\n",
       "      <th></th>\n",
       "      <th>read_rows</th>\n",
       "      <th>read_bytes</th>\n",
       "      <th>written_rows</th>\n",
       "      <th>written_bytes</th>\n",
       "      <th>total_rows_to_read</th>\n",
       "      <th>result_rows</th>\n",
       "      <th>result_bytes</th>\n",
       "      <th>elapsed_ns</th>\n",
       "      <th>query_id</th>\n",
       "    </tr>\n",
       "  </thead>\n",
       "  <tbody>\n",
       "    <tr>\n",
       "      <th>0</th>\n",
       "      <td>0</td>\n",
       "      <td>0</td>\n",
       "      <td>0</td>\n",
       "      <td>0</td>\n",
       "      <td>0</td>\n",
       "      <td>0</td>\n",
       "      <td>0</td>\n",
       "      <td>13065847</td>\n",
       "      <td>85894e22-d640-4f48-b22a-8406dafe8075</td>\n",
       "    </tr>\n",
       "  </tbody>\n",
       "</table>\n",
       "</div>"
      ],
      "text/plain": [
       "   read_rows  read_bytes  written_rows  written_bytes  total_rows_to_read  \\\n",
       "0          0           0             0              0                   0   \n",
       "\n",
       "   result_rows  result_bytes  elapsed_ns                              query_id  \n",
       "0            0             0    13065847  85894e22-d640-4f48-b22a-8406dafe8075  "
      ]
     },
     "execution_count": 7,
     "metadata": {},
     "output_type": "execute_result"
    }
   ],
   "source": [
    "q = \"\"\"\n",
    "CREATE TABLE IF NOT EXISTS test_database.test_table (\n",
    "    id UInt64 NOT NULL,\n",
    "    name String,\n",
    "    PRIMARY KEY id\n",
    ")\n",
    "\"\"\"\n",
    "execute_query(q)"
   ]
  },
  {
   "cell_type": "markdown",
   "metadata": {},
   "source": [
    "Посмотрим на таблички в нашей БД"
   ]
  },
  {
   "cell_type": "code",
   "execution_count": 8,
   "metadata": {},
   "outputs": [
    {
     "data": {
      "application/vnd.microsoft.datawrangler.viewer.v0+json": {
       "columns": [
        {
         "name": "index",
         "rawType": "int64",
         "type": "integer"
        },
        {
         "name": "name",
         "rawType": "object",
         "type": "string"
        }
       ],
       "ref": "935c8074-b151-4b6e-8859-7a665fba4bd1",
       "rows": [
        [
         "0",
         "test_table"
        ]
       ],
       "shape": {
        "columns": 1,
        "rows": 1
       }
      },
      "text/html": [
       "<div>\n",
       "<style scoped>\n",
       "    .dataframe tbody tr th:only-of-type {\n",
       "        vertical-align: middle;\n",
       "    }\n",
       "\n",
       "    .dataframe tbody tr th {\n",
       "        vertical-align: top;\n",
       "    }\n",
       "\n",
       "    .dataframe thead th {\n",
       "        text-align: right;\n",
       "    }\n",
       "</style>\n",
       "<table border=\"1\" class=\"dataframe\">\n",
       "  <thead>\n",
       "    <tr style=\"text-align: right;\">\n",
       "      <th></th>\n",
       "      <th>name</th>\n",
       "    </tr>\n",
       "  </thead>\n",
       "  <tbody>\n",
       "    <tr>\n",
       "      <th>0</th>\n",
       "      <td>test_table</td>\n",
       "    </tr>\n",
       "  </tbody>\n",
       "</table>\n",
       "</div>"
      ],
      "text/plain": [
       "         name\n",
       "0  test_table"
      ]
     },
     "execution_count": 8,
     "metadata": {},
     "output_type": "execute_result"
    }
   ],
   "source": [
    "q = \"\"\"\n",
    "SHOW TABLES FROM test_database\n",
    "\"\"\"\n",
    "execute_query(q)"
   ]
  },
  {
   "cell_type": "markdown",
   "metadata": {},
   "source": [
    "Загрузим данные"
   ]
  },
  {
   "cell_type": "code",
   "execution_count": 11,
   "metadata": {},
   "outputs": [
    {
     "data": {
      "application/vnd.microsoft.datawrangler.viewer.v0+json": {
       "columns": [
        {
         "name": "index",
         "rawType": "int64",
         "type": "integer"
        }
       ],
       "ref": "f2b91426-12e3-4bdf-95e4-02e0b4cb4572",
       "rows": [],
       "shape": {
        "columns": 0,
        "rows": 0
       }
      },
      "text/html": [
       "<div>\n",
       "<style scoped>\n",
       "    .dataframe tbody tr th:only-of-type {\n",
       "        vertical-align: middle;\n",
       "    }\n",
       "\n",
       "    .dataframe tbody tr th {\n",
       "        vertical-align: top;\n",
       "    }\n",
       "\n",
       "    .dataframe thead th {\n",
       "        text-align: right;\n",
       "    }\n",
       "</style>\n",
       "<table border=\"1\" class=\"dataframe\">\n",
       "  <thead>\n",
       "    <tr style=\"text-align: right;\">\n",
       "      <th></th>\n",
       "    </tr>\n",
       "  </thead>\n",
       "  <tbody>\n",
       "  </tbody>\n",
       "</table>\n",
       "</div>"
      ],
      "text/plain": [
       "Empty DataFrame\n",
       "Columns: []\n",
       "Index: []"
      ]
     },
     "execution_count": 11,
     "metadata": {},
     "output_type": "execute_result"
    }
   ],
   "source": [
    "q = \"\"\"\n",
    "INSERT INTO test_database.test_table (id, name) \n",
    "VALUES\n",
    "    (1, 'Otus'),\n",
    "    (2, 'Test'),\n",
    "\"\"\"\n",
    "execute_query(q)"
   ]
  },
  {
   "cell_type": "markdown",
   "metadata": {},
   "source": [
    "Сделаем выборку из нашей таблички"
   ]
  },
  {
   "cell_type": "code",
   "execution_count": 12,
   "metadata": {},
   "outputs": [
    {
     "data": {
      "application/vnd.microsoft.datawrangler.viewer.v0+json": {
       "columns": [
        {
         "name": "index",
         "rawType": "int64",
         "type": "integer"
        },
        {
         "name": "id",
         "rawType": "int64",
         "type": "integer"
        },
        {
         "name": "name",
         "rawType": "object",
         "type": "string"
        }
       ],
       "ref": "b1140702-f324-4096-a160-cb10d9a12d71",
       "rows": [
        [
         "0",
         "3",
         "Otus"
        ],
        [
         "1",
         "4",
         "Test"
        ],
        [
         "2",
         "1",
         "Otus"
        ],
        [
         "3",
         "2",
         "Test"
        ]
       ],
       "shape": {
        "columns": 2,
        "rows": 4
       }
      },
      "text/html": [
       "<div>\n",
       "<style scoped>\n",
       "    .dataframe tbody tr th:only-of-type {\n",
       "        vertical-align: middle;\n",
       "    }\n",
       "\n",
       "    .dataframe tbody tr th {\n",
       "        vertical-align: top;\n",
       "    }\n",
       "\n",
       "    .dataframe thead th {\n",
       "        text-align: right;\n",
       "    }\n",
       "</style>\n",
       "<table border=\"1\" class=\"dataframe\">\n",
       "  <thead>\n",
       "    <tr style=\"text-align: right;\">\n",
       "      <th></th>\n",
       "      <th>id</th>\n",
       "      <th>name</th>\n",
       "    </tr>\n",
       "  </thead>\n",
       "  <tbody>\n",
       "    <tr>\n",
       "      <th>0</th>\n",
       "      <td>3</td>\n",
       "      <td>Otus</td>\n",
       "    </tr>\n",
       "    <tr>\n",
       "      <th>1</th>\n",
       "      <td>4</td>\n",
       "      <td>Test</td>\n",
       "    </tr>\n",
       "    <tr>\n",
       "      <th>2</th>\n",
       "      <td>1</td>\n",
       "      <td>Otus</td>\n",
       "    </tr>\n",
       "    <tr>\n",
       "      <th>3</th>\n",
       "      <td>2</td>\n",
       "      <td>Test</td>\n",
       "    </tr>\n",
       "  </tbody>\n",
       "</table>\n",
       "</div>"
      ],
      "text/plain": [
       "   id  name\n",
       "0   3  Otus\n",
       "1   4  Test\n",
       "2   1  Otus\n",
       "3   2  Test"
      ]
     },
     "execution_count": 12,
     "metadata": {},
     "output_type": "execute_result"
    }
   ],
   "source": [
    "q = \"\"\"\n",
    "SELECT * FROM test_database.test_table\n",
    "\"\"\"\n",
    "execute_query(q)"
   ]
  }
 ],
 "metadata": {
  "kernelspec": {
   "display_name": "otus-nosql (3.11.11)",
   "language": "python",
   "name": "python3"
  },
  "language_info": {
   "codemirror_mode": {
    "name": "ipython",
    "version": 3
   },
   "file_extension": ".py",
   "mimetype": "text/x-python",
   "name": "python",
   "nbconvert_exporter": "python",
   "pygments_lexer": "ipython3",
   "version": "3.11.12"
  }
 },
 "nbformat": 4,
 "nbformat_minor": 2
}
