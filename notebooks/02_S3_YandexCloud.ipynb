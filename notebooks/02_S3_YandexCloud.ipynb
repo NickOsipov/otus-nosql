{
 "cells": [
  {
   "cell_type": "markdown",
   "metadata": {},
   "source": [
    "# S3 в python - Основы"
   ]
  },
  {
   "cell_type": "markdown",
   "metadata": {},
   "source": [
    "Импорты"
   ]
  },
  {
   "cell_type": "code",
   "execution_count": 1,
   "metadata": {},
   "outputs": [
    {
     "data": {
      "text/plain": [
       "True"
      ]
     },
     "execution_count": 1,
     "metadata": {},
     "output_type": "execute_result"
    }
   ],
   "source": [
    "import os\n",
    "from boto3.session import Session\n",
    "from dotenv import load_dotenv\n",
    "\n",
    "load_dotenv(os.path.join(\"..\", '.env'))"
   ]
  },
  {
   "cell_type": "markdown",
   "metadata": {},
   "source": [
    "Переменные окружения"
   ]
  },
  {
   "cell_type": "code",
   "execution_count": 2,
   "metadata": {},
   "outputs": [],
   "source": [
    "S3_ENDPOINT_URL = os.getenv(\"S3_ENDPOINT_URL\")\n",
    "S3_ACCESS_KEY = os.getenv(\"S3_ACCESS_KEY\")\n",
    "S3_SECRET_KEY = os.getenv(\"S3_SECRET_KEY\")"
   ]
  },
  {
   "cell_type": "markdown",
   "metadata": {},
   "source": [
    "Клиент для подключения"
   ]
  },
  {
   "cell_type": "code",
   "execution_count": 6,
   "metadata": {},
   "outputs": [],
   "source": [
    "session = Session()\n",
    "\n",
    "s3_client = session.client(\n",
    "    service_name='s3',\n",
    "    endpoint_url=S3_ENDPOINT_URL,\n",
    "    aws_access_key_id=S3_ACCESS_KEY,\n",
    "    aws_secret_access_key=S3_SECRET_KEY,\n",
    "    region_name=\"us-east-1\"\n",
    ")"
   ]
  },
  {
   "cell_type": "markdown",
   "metadata": {},
   "source": [
    "Посмотрим на бакеты"
   ]
  },
  {
   "cell_type": "code",
   "execution_count": 11,
   "metadata": {},
   "outputs": [
    {
     "name": "stdout",
     "output_type": "stream",
     "text": [
      "confluence\n",
      "ds-ml-pipelines\n",
      "gitlab-registry\n",
      "jira\n",
      "k8s-backups\n",
      "k8s-sso-loki\n",
      "k8s-sso-loki-admin\n",
      "k8s-sso-loki-chunks\n",
      "k8s-sso-loki-ruler\n",
      "private-registry\n",
      "pyroscope-bucket\n",
      "terraform\n",
      "test-bucket-from-boto3\n",
      "tfstates\n",
      "vottak-dev-image\n",
      "vottak-dev-video\n",
      "vottak-prod-image\n"
     ]
    }
   ],
   "source": [
    "for bucket in s3_client.list_buckets().get('Buckets', []):\n",
    "    print(bucket['Name'])"
   ]
  },
  {
   "cell_type": "markdown",
   "metadata": {},
   "source": [
    "Зададим имя бакета"
   ]
  },
  {
   "cell_type": "code",
   "execution_count": 8,
   "metadata": {},
   "outputs": [],
   "source": [
    "bucket_name = \"test-bucket-from-boto3\""
   ]
  },
  {
   "cell_type": "markdown",
   "metadata": {},
   "source": [
    "Создадим новый бакет"
   ]
  },
  {
   "cell_type": "code",
   "execution_count": 9,
   "metadata": {},
   "outputs": [
    {
     "data": {
      "text/plain": [
       "{'ResponseMetadata': {'RequestId': 'tx6b9ec09677a747ed8adb8-0067bca08b',\n",
       "  'HostId': 'tx6b9ec09677a747ed8adb8-0067bca08b',\n",
       "  'HTTPStatusCode': 200,\n",
       "  'HTTPHeaders': {'server': 'nginx/1.24.0',\n",
       "   'date': 'Mon, 24 Feb 2025 16:38:35 GMT',\n",
       "   'content-type': 'text/html; charset=UTF-8',\n",
       "   'content-length': '0',\n",
       "   'connection': 'keep-alive',\n",
       "   'location': '/test-bucket-from-boto3',\n",
       "   'x-amz-id-2': 'tx6b9ec09677a747ed8adb8-0067bca08b',\n",
       "   'x-amz-request-id': 'tx6b9ec09677a747ed8adb8-0067bca08b',\n",
       "   'x-trans-id': 'tx6b9ec09677a747ed8adb8-0067bca08b',\n",
       "   'x-openstack-request-id': 'tx6b9ec09677a747ed8adb8-0067bca08b',\n",
       "   'access-control-allow-origin': '*',\n",
       "   'access-control-allow-credentials': 'true',\n",
       "   'access-control-allow-methods': 'HEAD,GET,POST,PUT,PATCH,DELETE,OPTIONS',\n",
       "   'access-control-allow-headers': 'Content-Type,X-Amz-Content-Sha256,X-Amz-Date,X-Amz-User-Agent,X-Requested-With,X-Auth-Token,X-Openstack-Request-Id,X-Container-Meta-type,X-Container-Meta-Temp-URL-Key,Authorization'},\n",
       "  'RetryAttempts': 0},\n",
       " 'Location': '/test-bucket-from-boto3'}"
      ]
     },
     "execution_count": 9,
     "metadata": {},
     "output_type": "execute_result"
    }
   ],
   "source": [
    "s3_client.create_bucket(Bucket=bucket_name)"
   ]
  },
  {
   "cell_type": "markdown",
   "metadata": {},
   "source": [
    "Посмотрим на содержимое бакета"
   ]
  },
  {
   "cell_type": "code",
   "execution_count": 10,
   "metadata": {},
   "outputs": [],
   "source": [
    "# Getting a list of objects in the bucket\n",
    "for key in s3_client.list_objects(Bucket=bucket_name).get('Contents', []):\n",
    "    print(key['Key'])"
   ]
  },
  {
   "cell_type": "markdown",
   "metadata": {},
   "source": [
    "Загрузим файл на наш бакет"
   ]
  },
  {
   "cell_type": "code",
   "execution_count": null,
   "metadata": {},
   "outputs": [],
   "source": [
    "# The file to upload, change this path if needed\n",
    "source_file = \"work.ipynb\"\n",
    "\n",
    "# The destination filename on the Storage server\n",
    "destination_file = \"uploaded_\" + source_file\n",
    "\n",
    "## From a file\n",
    "s3_client.upload_file(source_file, bucket_name, destination_file)"
   ]
  },
  {
   "cell_type": "markdown",
   "metadata": {},
   "source": [
    "Посмотрим теперь на список файлов в бакете"
   ]
  },
  {
   "cell_type": "code",
   "execution_count": null,
   "metadata": {},
   "outputs": [],
   "source": [
    "# Getting a list of objects in the bucket\n",
    "for key in s3_client.list_objects(Bucket=bucket_name).get('Contents', []):\n",
    "    print(key['Key'])"
   ]
  },
  {
   "cell_type": "markdown",
   "metadata": {},
   "source": [
    "Удалим файл"
   ]
  },
  {
   "cell_type": "code",
   "execution_count": null,
   "metadata": {},
   "outputs": [],
   "source": [
    "# Deleting multiple objects\n",
    "for_deletion = [{'Key': destination_file}]\n",
    "response = s3_client.delete_objects(Bucket=bucket_name, Delete={'Objects': for_deletion})\n",
    "response"
   ]
  },
  {
   "cell_type": "markdown",
   "metadata": {},
   "source": [
    "Посмотрим еще раз на список файлов"
   ]
  },
  {
   "cell_type": "code",
   "execution_count": null,
   "metadata": {},
   "outputs": [],
   "source": [
    "# Getting a list of objects in the bucket\n",
    "for key in s3_client.list_objects(Bucket=bucket_name).get('Contents', []):\n",
    "    print(key['Key'])"
   ]
  }
 ],
 "metadata": {
  "kernelspec": {
   "display_name": ".venv (3.11.11)",
   "language": "python",
   "name": "python3"
  },
  "language_info": {
   "codemirror_mode": {
    "name": "ipython",
    "version": 3
   },
   "file_extension": ".py",
   "mimetype": "text/x-python",
   "name": "python",
   "nbconvert_exporter": "python",
   "pygments_lexer": "ipython3",
   "version": "3.11.11"
  }
 },
 "nbformat": 4,
 "nbformat_minor": 2
}
