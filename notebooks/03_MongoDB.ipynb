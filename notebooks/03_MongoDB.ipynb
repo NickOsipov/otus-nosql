{
 "cells": [
  {
   "cell_type": "markdown",
   "metadata": {},
   "source": [
    "# Работа с MongoDB - Основы"
   ]
  },
  {
   "cell_type": "markdown",
   "metadata": {},
   "source": [
    "Импорты"
   ]
  },
  {
   "cell_type": "code",
   "execution_count": 1,
   "metadata": {},
   "outputs": [],
   "source": [
    "from pymongo import MongoClient"
   ]
  },
  {
   "cell_type": "markdown",
   "metadata": {},
   "source": [
    "Клиент, БД, и коллекция"
   ]
  },
  {
   "cell_type": "code",
   "execution_count": 2,
   "metadata": {},
   "outputs": [],
   "source": [
    "mongo_client = MongoClient('localhost', 27017)\n",
    "db = mongo_client['my_test_database']\n",
    "collection = db['my_test_collection']"
   ]
  },
  {
   "cell_type": "markdown",
   "metadata": {},
   "source": [
    "Посмотрим на список БД"
   ]
  },
  {
   "cell_type": "code",
   "execution_count": 5,
   "metadata": {},
   "outputs": [
    {
     "name": "stdout",
     "output_type": "stream",
     "text": [
      "['admin', 'config', 'local', 'my_test_database']\n"
     ]
    }
   ],
   "source": [
    "print(mongo_client.list_database_names())"
   ]
  },
  {
   "cell_type": "markdown",
   "metadata": {},
   "source": [
    "Загрузим словарь в коллекцию"
   ]
  },
  {
   "cell_type": "code",
   "execution_count": 4,
   "metadata": {},
   "outputs": [],
   "source": [
    "mydict = {\"name\": \"John\", \"address\": \"Highway 37\"}\n",
    "\n",
    "x = collection.insert_one(mydict)"
   ]
  },
  {
   "cell_type": "markdown",
   "metadata": {},
   "source": [
    "Посмотрим на список БД"
   ]
  },
  {
   "cell_type": "code",
   "execution_count": 6,
   "metadata": {},
   "outputs": [
    {
     "name": "stdout",
     "output_type": "stream",
     "text": [
      "['admin', 'config', 'local', 'my_test_database']\n"
     ]
    }
   ],
   "source": [
    "print(mongo_client.list_database_names())"
   ]
  },
  {
   "cell_type": "markdown",
   "metadata": {},
   "source": [
    "Загрузим список словарей"
   ]
  },
  {
   "cell_type": "code",
   "execution_count": 7,
   "metadata": {},
   "outputs": [],
   "source": [
    "mylist = [\n",
    "    { \"name\": \"Amy\", \"address\": \"Apple st 652\"},\n",
    "    { \"name\": \"Hannah\", \"address\": \"Mountain 21\"},\n",
    "    { \"name\": \"Michael\", \"address\": \"Valley 345\"},\n",
    "    { \"name\": \"Sandy\", \"address\": \"Ocean blvd 2\"},\n",
    "    { \"name\": \"Betty\", \"address\": \"Green Grass 1\"},\n",
    "    { \"name\": \"Richard\", \"address\": \"Sky st 331\"},\n",
    "    { \"name\": \"Susan\", \"address\": \"One way 98\"},\n",
    "    { \"name\": \"Vicky\", \"address\": \"Yellow Garden 2\"},\n",
    "    { \"name\": \"Ben\", \"address\": \"Park Lane 38\"},\n",
    "    { \"name\": \"William\", \"address\": \"Central st 954\"},\n",
    "    { \"name\": \"Chuck\", \"address\": \"Main Road 989\"},\n",
    "    { \"name\": \"Viola\", \"address\": \"Sideway 1633\"}\n",
    "]"
   ]
  },
  {
   "cell_type": "code",
   "execution_count": 8,
   "metadata": {},
   "outputs": [],
   "source": [
    "x = collection.insert_many(mylist)"
   ]
  },
  {
   "cell_type": "markdown",
   "metadata": {},
   "source": [
    "Посмотрим на список загруженных id"
   ]
  },
  {
   "cell_type": "code",
   "execution_count": 9,
   "metadata": {},
   "outputs": [
    {
     "name": "stdout",
     "output_type": "stream",
     "text": [
      "682f6c42aee622195a90bc7c\n",
      "682f6c42aee622195a90bc7d\n",
      "682f6c42aee622195a90bc7e\n",
      "682f6c42aee622195a90bc7f\n",
      "682f6c42aee622195a90bc80\n",
      "682f6c42aee622195a90bc81\n",
      "682f6c42aee622195a90bc82\n",
      "682f6c42aee622195a90bc83\n",
      "682f6c42aee622195a90bc84\n",
      "682f6c42aee622195a90bc85\n",
      "682f6c42aee622195a90bc86\n",
      "682f6c42aee622195a90bc87\n"
     ]
    }
   ],
   "source": [
    "for ids in x.inserted_ids:\n",
    "    print(ids)"
   ]
  },
  {
   "cell_type": "markdown",
   "metadata": {},
   "source": [
    "Посмотрим на коллекцию"
   ]
  },
  {
   "cell_type": "code",
   "execution_count": 10,
   "metadata": {},
   "outputs": [
    {
     "name": "stdout",
     "output_type": "stream",
     "text": [
      "{'_id': ObjectId('682f6bf7aee622195a90bc7b'), 'name': 'John', 'address': 'Highway 37'}\n",
      "{'_id': ObjectId('682f6c42aee622195a90bc7c'), 'name': 'Amy', 'address': 'Apple st 652'}\n",
      "{'_id': ObjectId('682f6c42aee622195a90bc7d'), 'name': 'Hannah', 'address': 'Mountain 21'}\n",
      "{'_id': ObjectId('682f6c42aee622195a90bc7e'), 'name': 'Michael', 'address': 'Valley 345'}\n",
      "{'_id': ObjectId('682f6c42aee622195a90bc7f'), 'name': 'Sandy', 'address': 'Ocean blvd 2'}\n",
      "{'_id': ObjectId('682f6c42aee622195a90bc80'), 'name': 'Betty', 'address': 'Green Grass 1'}\n",
      "{'_id': ObjectId('682f6c42aee622195a90bc81'), 'name': 'Richard', 'address': 'Sky st 331'}\n",
      "{'_id': ObjectId('682f6c42aee622195a90bc82'), 'name': 'Susan', 'address': 'One way 98'}\n",
      "{'_id': ObjectId('682f6c42aee622195a90bc83'), 'name': 'Vicky', 'address': 'Yellow Garden 2'}\n",
      "{'_id': ObjectId('682f6c42aee622195a90bc84'), 'name': 'Ben', 'address': 'Park Lane 38'}\n",
      "{'_id': ObjectId('682f6c42aee622195a90bc85'), 'name': 'William', 'address': 'Central st 954'}\n",
      "{'_id': ObjectId('682f6c42aee622195a90bc86'), 'name': 'Chuck', 'address': 'Main Road 989'}\n",
      "{'_id': ObjectId('682f6c42aee622195a90bc87'), 'name': 'Viola', 'address': 'Sideway 1633'}\n"
     ]
    }
   ],
   "source": [
    "for x in collection.find():\n",
    "    print(x)"
   ]
  },
  {
   "cell_type": "markdown",
   "metadata": {},
   "source": [
    "Ограничим выгрузку"
   ]
  },
  {
   "cell_type": "code",
   "execution_count": 11,
   "metadata": {},
   "outputs": [
    {
     "name": "stdout",
     "output_type": "stream",
     "text": [
      "{'_id': ObjectId('682f6bf7aee622195a90bc7b'), 'name': 'John', 'address': 'Highway 37'}\n",
      "{'_id': ObjectId('682f6c42aee622195a90bc7c'), 'name': 'Amy', 'address': 'Apple st 652'}\n",
      "{'_id': ObjectId('682f6c42aee622195a90bc7d'), 'name': 'Hannah', 'address': 'Mountain 21'}\n",
      "{'_id': ObjectId('682f6c42aee622195a90bc7e'), 'name': 'Michael', 'address': 'Valley 345'}\n",
      "{'_id': ObjectId('682f6c42aee622195a90bc7f'), 'name': 'Sandy', 'address': 'Ocean blvd 2'}\n"
     ]
    }
   ],
   "source": [
    "limit = 5\n",
    "for x in collection.find().limit(limit):\n",
    "    print(x)"
   ]
  },
  {
   "cell_type": "markdown",
   "metadata": {},
   "source": [
    "Сделаем запросы с параметрами"
   ]
  },
  {
   "cell_type": "code",
   "execution_count": 12,
   "metadata": {},
   "outputs": [
    {
     "name": "stdout",
     "output_type": "stream",
     "text": [
      "{'_id': ObjectId('682f6c42aee622195a90bc7e'), 'name': 'Michael', 'address': 'Valley 345'}\n",
      "{'_id': ObjectId('682f6c42aee622195a90bc81'), 'name': 'Richard', 'address': 'Sky st 331'}\n",
      "{'_id': ObjectId('682f6c42aee622195a90bc83'), 'name': 'Vicky', 'address': 'Yellow Garden 2'}\n",
      "{'_id': ObjectId('682f6c42aee622195a90bc87'), 'name': 'Viola', 'address': 'Sideway 1633'}\n"
     ]
    }
   ],
   "source": [
    "# filter by address begins with S or further alphabetically.\n",
    "q = {\"address\": { \"$gt\": \"S\" }}\n",
    "\n",
    "for x in collection.find(q):\n",
    "    print(x)"
   ]
  },
  {
   "cell_type": "code",
   "execution_count": 13,
   "metadata": {},
   "outputs": [
    {
     "name": "stdout",
     "output_type": "stream",
     "text": [
      "{'_id': ObjectId('682f6c42aee622195a90bc81'), 'name': 'Richard', 'address': 'Sky st 331'}\n",
      "{'_id': ObjectId('682f6c42aee622195a90bc87'), 'name': 'Viola', 'address': 'Sideway 1633'}\n"
     ]
    }
   ],
   "source": [
    "# filter by address start from 'S'\n",
    "q = { \"address\": { \"$regex\": \"^S\" } }\n",
    "\n",
    "for x in collection.find(q):\n",
    "    print(x)"
   ]
  },
  {
   "cell_type": "code",
   "execution_count": 14,
   "metadata": {},
   "outputs": [
    {
     "name": "stdout",
     "output_type": "stream",
     "text": [
      "{'_id': ObjectId('682f6c42aee622195a90bc7c'), 'name': 'Amy', 'address': 'Apple st 652'}\n",
      "{'_id': ObjectId('682f6c42aee622195a90bc84'), 'name': 'Ben', 'address': 'Park Lane 38'}\n",
      "{'_id': ObjectId('682f6c42aee622195a90bc80'), 'name': 'Betty', 'address': 'Green Grass 1'}\n",
      "{'_id': ObjectId('682f6c42aee622195a90bc86'), 'name': 'Chuck', 'address': 'Main Road 989'}\n",
      "{'_id': ObjectId('682f6c42aee622195a90bc7d'), 'name': 'Hannah', 'address': 'Mountain 21'}\n",
      "{'_id': ObjectId('682f6bf7aee622195a90bc7b'), 'name': 'John', 'address': 'Highway 37'}\n",
      "{'_id': ObjectId('682f6c42aee622195a90bc7e'), 'name': 'Michael', 'address': 'Valley 345'}\n",
      "{'_id': ObjectId('682f6c42aee622195a90bc81'), 'name': 'Richard', 'address': 'Sky st 331'}\n",
      "{'_id': ObjectId('682f6c42aee622195a90bc7f'), 'name': 'Sandy', 'address': 'Ocean blvd 2'}\n",
      "{'_id': ObjectId('682f6c42aee622195a90bc82'), 'name': 'Susan', 'address': 'One way 98'}\n",
      "{'_id': ObjectId('682f6c42aee622195a90bc83'), 'name': 'Vicky', 'address': 'Yellow Garden 2'}\n",
      "{'_id': ObjectId('682f6c42aee622195a90bc87'), 'name': 'Viola', 'address': 'Sideway 1633'}\n",
      "{'_id': ObjectId('682f6c42aee622195a90bc85'), 'name': 'William', 'address': 'Central st 954'}\n"
     ]
    }
   ],
   "source": [
    "# sort by name ascending\n",
    "for x in collection.find().sort('name', 1):\n",
    "    print(x)"
   ]
  },
  {
   "cell_type": "code",
   "execution_count": 15,
   "metadata": {},
   "outputs": [
    {
     "name": "stdout",
     "output_type": "stream",
     "text": [
      "{'_id': ObjectId('682f6c42aee622195a90bc85'), 'name': 'William', 'address': 'Central st 954'}\n",
      "{'_id': ObjectId('682f6c42aee622195a90bc87'), 'name': 'Viola', 'address': 'Sideway 1633'}\n",
      "{'_id': ObjectId('682f6c42aee622195a90bc83'), 'name': 'Vicky', 'address': 'Yellow Garden 2'}\n",
      "{'_id': ObjectId('682f6c42aee622195a90bc82'), 'name': 'Susan', 'address': 'One way 98'}\n",
      "{'_id': ObjectId('682f6c42aee622195a90bc7f'), 'name': 'Sandy', 'address': 'Ocean blvd 2'}\n",
      "{'_id': ObjectId('682f6c42aee622195a90bc81'), 'name': 'Richard', 'address': 'Sky st 331'}\n",
      "{'_id': ObjectId('682f6c42aee622195a90bc7e'), 'name': 'Michael', 'address': 'Valley 345'}\n",
      "{'_id': ObjectId('682f6bf7aee622195a90bc7b'), 'name': 'John', 'address': 'Highway 37'}\n",
      "{'_id': ObjectId('682f6c42aee622195a90bc7d'), 'name': 'Hannah', 'address': 'Mountain 21'}\n",
      "{'_id': ObjectId('682f6c42aee622195a90bc86'), 'name': 'Chuck', 'address': 'Main Road 989'}\n",
      "{'_id': ObjectId('682f6c42aee622195a90bc80'), 'name': 'Betty', 'address': 'Green Grass 1'}\n",
      "{'_id': ObjectId('682f6c42aee622195a90bc84'), 'name': 'Ben', 'address': 'Park Lane 38'}\n",
      "{'_id': ObjectId('682f6c42aee622195a90bc7c'), 'name': 'Amy', 'address': 'Apple st 652'}\n"
     ]
    }
   ],
   "source": [
    "# sort by name descending\n",
    "for x in collection.find().sort('name', -1):\n",
    "    print(x)"
   ]
  },
  {
   "cell_type": "markdown",
   "metadata": {},
   "source": [
    "Вставим сложные объекты в ту же коллекцию"
   ]
  },
  {
   "cell_type": "code",
   "execution_count": 16,
   "metadata": {},
   "outputs": [],
   "source": [
    "mydict = { \"names\": [\"John\", \"Jane\", \"Ann\"], \"address\": \"Highway 37\" }\n",
    "\n",
    "x = collection.insert_one(mydict)"
   ]
  },
  {
   "cell_type": "code",
   "execution_count": 17,
   "metadata": {},
   "outputs": [
    {
     "name": "stdout",
     "output_type": "stream",
     "text": [
      "{'_id': ObjectId('682f6bf7aee622195a90bc7b'), 'name': 'John', 'address': 'Highway 37'}\n",
      "{'_id': ObjectId('682f6c42aee622195a90bc7c'), 'name': 'Amy', 'address': 'Apple st 652'}\n",
      "{'_id': ObjectId('682f6c42aee622195a90bc7d'), 'name': 'Hannah', 'address': 'Mountain 21'}\n",
      "{'_id': ObjectId('682f6c42aee622195a90bc7e'), 'name': 'Michael', 'address': 'Valley 345'}\n",
      "{'_id': ObjectId('682f6c42aee622195a90bc7f'), 'name': 'Sandy', 'address': 'Ocean blvd 2'}\n",
      "{'_id': ObjectId('682f6c42aee622195a90bc80'), 'name': 'Betty', 'address': 'Green Grass 1'}\n",
      "{'_id': ObjectId('682f6c42aee622195a90bc81'), 'name': 'Richard', 'address': 'Sky st 331'}\n",
      "{'_id': ObjectId('682f6c42aee622195a90bc82'), 'name': 'Susan', 'address': 'One way 98'}\n",
      "{'_id': ObjectId('682f6c42aee622195a90bc83'), 'name': 'Vicky', 'address': 'Yellow Garden 2'}\n",
      "{'_id': ObjectId('682f6c42aee622195a90bc84'), 'name': 'Ben', 'address': 'Park Lane 38'}\n",
      "{'_id': ObjectId('682f6c42aee622195a90bc85'), 'name': 'William', 'address': 'Central st 954'}\n",
      "{'_id': ObjectId('682f6c42aee622195a90bc86'), 'name': 'Chuck', 'address': 'Main Road 989'}\n",
      "{'_id': ObjectId('682f6c42aee622195a90bc87'), 'name': 'Viola', 'address': 'Sideway 1633'}\n",
      "{'_id': ObjectId('682f6cceaee622195a90bc88'), 'names': ['John', 'Jane', 'Ann'], 'address': 'Highway 37'}\n"
     ]
    }
   ],
   "source": [
    "for x in collection.find():\n",
    "    print(x)"
   ]
  },
  {
   "cell_type": "code",
   "execution_count": 18,
   "metadata": {},
   "outputs": [],
   "source": [
    "mydict = { \"names\": [\"John\", \"Jane\", \"Ann\"], \"address\": {'full': 'full address', 'brief': 'brief address'} }\n",
    "\n",
    "x = collection.insert_one(mydict)"
   ]
  },
  {
   "cell_type": "code",
   "execution_count": 19,
   "metadata": {},
   "outputs": [
    {
     "name": "stdout",
     "output_type": "stream",
     "text": [
      "{'_id': ObjectId('682f6bf7aee622195a90bc7b'), 'name': 'John', 'address': 'Highway 37'}\n",
      "{'_id': ObjectId('682f6c42aee622195a90bc7c'), 'name': 'Amy', 'address': 'Apple st 652'}\n",
      "{'_id': ObjectId('682f6c42aee622195a90bc7d'), 'name': 'Hannah', 'address': 'Mountain 21'}\n",
      "{'_id': ObjectId('682f6c42aee622195a90bc7e'), 'name': 'Michael', 'address': 'Valley 345'}\n",
      "{'_id': ObjectId('682f6c42aee622195a90bc7f'), 'name': 'Sandy', 'address': 'Ocean blvd 2'}\n",
      "{'_id': ObjectId('682f6c42aee622195a90bc80'), 'name': 'Betty', 'address': 'Green Grass 1'}\n",
      "{'_id': ObjectId('682f6c42aee622195a90bc81'), 'name': 'Richard', 'address': 'Sky st 331'}\n",
      "{'_id': ObjectId('682f6c42aee622195a90bc82'), 'name': 'Susan', 'address': 'One way 98'}\n",
      "{'_id': ObjectId('682f6c42aee622195a90bc83'), 'name': 'Vicky', 'address': 'Yellow Garden 2'}\n",
      "{'_id': ObjectId('682f6c42aee622195a90bc84'), 'name': 'Ben', 'address': 'Park Lane 38'}\n",
      "{'_id': ObjectId('682f6c42aee622195a90bc85'), 'name': 'William', 'address': 'Central st 954'}\n",
      "{'_id': ObjectId('682f6c42aee622195a90bc86'), 'name': 'Chuck', 'address': 'Main Road 989'}\n",
      "{'_id': ObjectId('682f6c42aee622195a90bc87'), 'name': 'Viola', 'address': 'Sideway 1633'}\n",
      "{'_id': ObjectId('682f6cceaee622195a90bc88'), 'names': ['John', 'Jane', 'Ann'], 'address': 'Highway 37'}\n",
      "{'_id': ObjectId('682f6ceaaee622195a90bc89'), 'names': ['John', 'Jane', 'Ann'], 'address': {'full': 'full address', 'brief': 'brief address'}}\n"
     ]
    }
   ],
   "source": [
    "for x in collection.find():\n",
    "    print(x)"
   ]
  },
  {
   "cell_type": "markdown",
   "metadata": {},
   "source": [
    "[Больше примеров подробных запросов в системе MongoDB](https://www.mongodb.com/docs/manual/tutorial/query-array-of-documents/)"
   ]
  }
 ],
 "metadata": {
  "kernelspec": {
   "display_name": "otus-nosql (3.11.11)",
   "language": "python",
   "name": "python3"
  },
  "language_info": {
   "codemirror_mode": {
    "name": "ipython",
    "version": 3
   },
   "file_extension": ".py",
   "mimetype": "text/x-python",
   "name": "python",
   "nbconvert_exporter": "python",
   "pygments_lexer": "ipython3",
   "version": "3.11.12"
  }
 },
 "nbformat": 4,
 "nbformat_minor": 2
}
